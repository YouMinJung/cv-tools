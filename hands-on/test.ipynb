{
 "cells": [
  {
   "cell_type": "code",
   "execution_count": 1,
   "metadata": {},
   "outputs": [],
   "source": [
    "import os"
   ]
  },
  {
   "cell_type": "code",
   "execution_count": 3,
   "metadata": {},
   "outputs": [
    {
     "name": "stdout",
     "output_type": "stream",
     "text": [
      "['test.ipynb', 'cvt_img_video.py', 'datasets.csv', '.gitignore', 'image_resize.ipynb', 'image_merge.ipynb', 'requirements.txt', 'image_merge_list.txt', 'draw_bbox.py', 'convert', 'iou.py', 'image_utils_test.ipynb', 'im-utils.py', '.git', 'convert_mp4_img.ipynb', 'test.txt']\n"
     ]
    }
   ],
   "source": [
    "data_path = '/mnt/hdd01/hyeongdo/workspace/cv-tools'\n",
    "# 현재 디렉토리(.)와 부모 디렉토리(..)를 제외한 모든 파일과 디렉토리를 가져온다.\n",
    "print(os.listdir(data_path))"
   ]
  }
 ],
 "metadata": {
  "kernelspec": {
   "display_name": "eda",
   "language": "python",
   "name": "python3"
  },
  "language_info": {
   "codemirror_mode": {
    "name": "ipython",
    "version": 3
   },
   "file_extension": ".py",
   "mimetype": "text/x-python",
   "name": "python",
   "nbconvert_exporter": "python",
   "pygments_lexer": "ipython3",
   "version": "3.12.2"
  }
 },
 "nbformat": 4,
 "nbformat_minor": 2
}
