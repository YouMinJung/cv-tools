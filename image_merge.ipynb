{
 "cells": [
  {
   "cell_type": "code",
   "execution_count": null,
   "metadata": {},
   "outputs": [],
   "source": [
    "# 머지할 이미지 목록 파일을 불러 온다\n",
    "# 목록 파일이 2의 배수인지 확인한다. (2의 배수가 아니면 오류)\n",
    "# 목록에 있는 파일을 읽어 온다. (모든 이미지 크기가 동일하다고 가정)\n",
    "# 출력 해상도에 맞게 빈 이미지 생성 (기본값 : FHD)\n",
    "# 이미지 순서에 맞춰 이미지 복사"
   ]
  },
  {
   "cell_type": "code",
   "execution_count": null,
   "metadata": {},
   "outputs": [],
   "source": []
  }
 ],
 "metadata": {
  "kernelspec": {
   "display_name": "Python 3.8.10 64-bit",
   "language": "python",
   "name": "python3"
  },
  "language_info": {
   "name": "python",
   "version": "3.8.10"
  },
  "orig_nbformat": 4,
  "vscode": {
   "interpreter": {
    "hash": "916dbcbb3f70747c44a77c7bcd40155683ae19c65e1c03b4aa3499c5328201f1"
   }
  }
 },
 "nbformat": 4,
 "nbformat_minor": 2
}
